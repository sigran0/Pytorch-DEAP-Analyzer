{
 "cells": [
  {
   "cell_type": "code",
   "execution_count": 1,
   "metadata": {},
   "outputs": [
    {
     "name": "stderr",
     "output_type": "stream",
     "text": [
      "/home/swjung/.local/lib/python3.5/site-packages/h5py/__init__.py:36: FutureWarning: Conversion of the second argument of issubdtype from `float` to `np.floating` is deprecated. In future, it will be treated as `np.float64 == np.dtype(float).type`.\n",
      "  from ._conv import register_converters as _register_converters\n"
     ]
    }
   ],
   "source": [
    "import pickle\n",
    "import h5py\n",
    "import os\n",
    "import torch\n",
    "import random\n",
    "import torch.utils.data as data\n",
    "import torch.nn as nn\n",
    "from torch.autograd import Variable\n",
    "import time\n",
    "import numpy\n"
   ]
  },
  {
   "cell_type": "code",
   "execution_count": 2,
   "metadata": {},
   "outputs": [],
   "source": [
    "# Set HyperParameter\n",
    "# learning_rate = 0.00001\n",
    "learning_rate = 0.00001\n",
    "gradient_direction = 0.9\n",
    "batch_size = 310\n",
    "epochs = 250\n",
    "test_range = 32\n",
    "total_process_count = test_range * epochs\n",
    "\n",
    "TEST_TYPE = 0\n",
    "\n",
    "if TEST_TYPE == 0:\n",
    "    _type = 'Valence'\n",
    "elif TEST_TYPE == 1:\n",
    "    _type = 'Arousal'\n",
    "else:\n",
    "    raise ValueError('TEST_TYPE must be 1 or 2')"
   ]
  },
  {
   "cell_type": "code",
   "execution_count": 3,
   "metadata": {},
   "outputs": [],
   "source": [
    "class DEAP_DataSet(data.Dataset):\n",
    "    \n",
    "    VALID_SPLIT = ('train', 'validation', 'test')\n",
    "    DATASET = 'data/'\n",
    "    \n",
    "    def __init__(self, test_target, test_type=0, split='train', data_dir='processed_data.pkl', label_dir='y_train.pkl'):\n",
    "        super(DEAP_DataSet, self).__init__()\n",
    "        \n",
    "        if split not in self.VALID_SPLIT:\n",
    "            raise ValueError('Unknown split {:s}'.format(split))\n",
    "        if not os.path.exists(self.DATASET + data_dir):\n",
    "            raise ValueError('{:s} does not exist'.format(data_dir))\n",
    "        if not os.path.exists(self.DATASET + label_dir):\n",
    "            raise ValueError('{:s} does not exist'.format(label_dir))\n",
    "            \n",
    "        data_path = '{}/{}'.format(self.DATASET, data_dir)\n",
    "        label_path = '{}/{}'.format(self.DATASET, label_dir)\n",
    "        \n",
    "        self.split = split\n",
    "        self.data = pickle.load(open(data_path, 'rb'))\n",
    "        self.labels = pickle.load(open(label_path, 'rb'))\n",
    "        \n",
    "        self.test_target = test_target\n",
    "        self.test_type = test_type\n",
    "        self.target_data = []\n",
    "        \n",
    "        # create train data set\n",
    "        if self.split == self.VALID_SPLIT[0]:\n",
    "            counter = 0\n",
    "            for pp, pp_data in enumerate(self.data):\n",
    "                if self.test_target is not pp:\n",
    "                    for exp, data in enumerate(pp_data):\n",
    "                        counter += 1\n",
    "                        temp_label = self.labels[pp][exp][self.test_type]\n",
    "                        temp_data = data.flatten()\n",
    "                        self.target_data.append((temp_label, temp_data))\n",
    "            \n",
    "        # craete test data set\n",
    "        if self.split == self.VALID_SPLIT[2]:\n",
    "            counter = 0\n",
    "            for pp, pp_data in enumerate(self.data):\n",
    "                if self.test_target == pp:\n",
    "                    for exp, data in enumerate(pp_data):\n",
    "                        counter += 1\n",
    "                        temp_label = self.labels[pp][exp][self.test_type]\n",
    "                        temp_data = data.flatten()\n",
    "                        self.target_data.append((temp_label, temp_data))\n",
    "            \n",
    "    def __getitem__(self, index):\n",
    "        return self.target_data[index]\n",
    "    \n",
    "    def __len__(self):\n",
    "        return len(self.target_data)"
   ]
  },
  {
   "cell_type": "code",
   "execution_count": 4,
   "metadata": {},
   "outputs": [],
   "source": [
    "class DNN(nn.Module):\n",
    "    def __init__(self):\n",
    "        super(DNN, self).__init__()\n",
    "        self.layer = nn.Sequential(\n",
    "            nn.Linear(4040, 5000),\n",
    "            nn.ReLU(),\n",
    "            nn.Dropout(0.25),\n",
    "            nn.Linear(5000, 500),\n",
    "            nn.ReLU(),\n",
    "            nn.Dropout(0.50),\n",
    "            nn.Linear(500, 1000),\n",
    "            nn.ReLU(),\n",
    "            nn.Dropout(0.50),\n",
    "            nn.Linear(1000, 2),\n",
    "#             nn.Dropout(0.50),\n",
    "            nn.Softmax(dim=1)\n",
    "        )\n",
    "    def forward(self, x):\n",
    "        out = self.layer(x)\n",
    "        return out"
   ]
  },
  {
   "cell_type": "code",
   "execution_count": 5,
   "metadata": {},
   "outputs": [],
   "source": [
    "def run_train(test_num, test_type):\n",
    "    train_model = DNN().double().cuda()\n",
    "    \n",
    "    DEAP_train = DEAP_DataSet(test_num, test_type=test_type, split='train')\n",
    "    train_loader = torch.utils.data.DataLoader(DEAP_train, batch_size=batch_size, shuffle=False, num_workers=2, drop_last=False)\n",
    "    \n",
    "    optimizer = torch.optim.RMSprop(train_model.parameters(), lr=learning_rate, alpha=gradient_direction)\n",
    "#     optimizer = torch.optim.SGD(train_model.parameters(), lr=learning_rate, momentum=0.9)\n",
    "    loss_func = nn.CrossEntropyLoss().double()\n",
    "    \n",
    "    for epoch in range(epochs):\n",
    "        count = 0\n",
    "        for label, data in train_loader:\n",
    "            x = Variable(data).double().cuda()\n",
    "            y_ = Variable(label).type(torch.LongTensor).cuda()\n",
    "\n",
    "            optimizer.zero_grad()\n",
    "            output = train_model.forward(x)\n",
    "            loss = loss_func(output, y_).double()\n",
    "#             print(loss)\n",
    "            loss.backward()\n",
    "            optimizer.step()\n",
    "\n",
    "            count += 1\n",
    "    return train_model"
   ]
  },
  {
   "cell_type": "code",
   "execution_count": 6,
   "metadata": {},
   "outputs": [],
   "source": [
    "def run_validation(model, test_num, test_type):\n",
    "    DEAP_test = DEAP_DataSet(test_num, test_type=test_type, split='test')\n",
    "    test_loader = torch.utils.data.DataLoader(DEAP_test, batch_size=batch_size, shuffle=False, num_workers=2, drop_last=False)\n",
    "    \n",
    "    total = 0\n",
    "    correct = 0\n",
    "    \n",
    "    for label, data in test_loader:\n",
    "        x = Variable(data, requires_grad=False).double().cuda()\n",
    "        y_ = Variable(label).type(torch.LongTensor).cuda()\n",
    "        \n",
    "        with torch.no_grad():\n",
    "            output = model.forward(x)\n",
    "            _, output_index = torch.max(output, 1)\n",
    "\n",
    "            total += label.size(0)\n",
    "            correct += (output_index == y_).sum().float()\n",
    "    return total, correct"
   ]
  },
  {
   "cell_type": "code",
   "execution_count": 7,
   "metadata": {},
   "outputs": [],
   "source": [
    "def get_min_sec(t):\n",
    "    _min = int(t / 60)\n",
    "    _sec = int(t) % 60\n",
    "    \n",
    "    return _min, _sec"
   ]
  },
  {
   "cell_type": "code",
   "execution_count": 8,
   "metadata": {},
   "outputs": [
    {
     "name": "stdout",
     "output_type": "stream",
     "text": [
      "# > [1/32] train start.\n",
      "tensor(0.8455, dtype=torch.float64, device='cuda:0')\n",
      "tensor(0.8133, dtype=torch.float64, device='cuda:0')\n"
     ]
    },
    {
     "ename": "RuntimeError",
     "evalue": "cuda runtime error (2) : out of memory at /pytorch/aten/src/THC/generic/THCStorage.cu:58",
     "output_type": "error",
     "traceback": [
      "\u001b[0;31m---------------------------------------------------------------------------\u001b[0m",
      "\u001b[0;31mRuntimeError\u001b[0m                              Traceback (most recent call last)",
      "\u001b[0;32m<ipython-input-8-6847afdca932>\u001b[0m in \u001b[0;36m<module>\u001b[0;34m()\u001b[0m\n\u001b[1;32m      5\u001b[0m     \u001b[0mstart_time\u001b[0m \u001b[0;34m=\u001b[0m \u001b[0mtime\u001b[0m\u001b[0;34m.\u001b[0m\u001b[0mtime\u001b[0m\u001b[0;34m(\u001b[0m\u001b[0;34m)\u001b[0m\u001b[0;34m\u001b[0m\u001b[0m\n\u001b[1;32m      6\u001b[0m     \u001b[0mprint\u001b[0m\u001b[0;34m(\u001b[0m\u001b[0;34m'# > [{}/{}] train start.'\u001b[0m\u001b[0;34m.\u001b[0m\u001b[0mformat\u001b[0m\u001b[0;34m(\u001b[0m\u001b[0mtest_num\u001b[0m \u001b[0;34m+\u001b[0m \u001b[0;36m1\u001b[0m\u001b[0;34m,\u001b[0m \u001b[0mtest_range\u001b[0m\u001b[0;34m)\u001b[0m\u001b[0;34m)\u001b[0m\u001b[0;34m\u001b[0m\u001b[0m\n\u001b[0;32m----> 7\u001b[0;31m     \u001b[0mmodel\u001b[0m \u001b[0;34m=\u001b[0m \u001b[0mrun_train\u001b[0m\u001b[0;34m(\u001b[0m\u001b[0mtest_num\u001b[0m\u001b[0;34m,\u001b[0m \u001b[0mTEST_TYPE\u001b[0m\u001b[0;34m)\u001b[0m\u001b[0;34m\u001b[0m\u001b[0m\n\u001b[0m\u001b[1;32m      8\u001b[0m     \u001b[0mprint\u001b[0m\u001b[0;34m(\u001b[0m\u001b[0;34m'# > [{}/{}] train end.'\u001b[0m\u001b[0;34m.\u001b[0m\u001b[0mformat\u001b[0m\u001b[0;34m(\u001b[0m\u001b[0mtest_num\u001b[0m \u001b[0;34m+\u001b[0m \u001b[0;36m1\u001b[0m\u001b[0;34m,\u001b[0m \u001b[0mtest_range\u001b[0m\u001b[0;34m)\u001b[0m\u001b[0;34m)\u001b[0m\u001b[0;34m\u001b[0m\u001b[0m\n\u001b[1;32m      9\u001b[0m \u001b[0;34m\u001b[0m\u001b[0m\n",
      "\u001b[0;32m<ipython-input-5-9b96970c043a>\u001b[0m in \u001b[0;36mrun_train\u001b[0;34m(test_num, test_type)\u001b[0m\n\u001b[1;32m     19\u001b[0m             \u001b[0mloss\u001b[0m \u001b[0;34m=\u001b[0m \u001b[0mloss_func\u001b[0m\u001b[0;34m(\u001b[0m\u001b[0moutput\u001b[0m\u001b[0;34m,\u001b[0m \u001b[0my_\u001b[0m\u001b[0;34m)\u001b[0m\u001b[0;34m.\u001b[0m\u001b[0mdouble\u001b[0m\u001b[0;34m(\u001b[0m\u001b[0;34m)\u001b[0m\u001b[0;34m\u001b[0m\u001b[0m\n\u001b[1;32m     20\u001b[0m             \u001b[0mprint\u001b[0m\u001b[0;34m(\u001b[0m\u001b[0mloss\u001b[0m\u001b[0;34m)\u001b[0m\u001b[0;34m\u001b[0m\u001b[0m\n\u001b[0;32m---> 21\u001b[0;31m             \u001b[0mloss\u001b[0m\u001b[0;34m.\u001b[0m\u001b[0mbackward\u001b[0m\u001b[0;34m(\u001b[0m\u001b[0;34m)\u001b[0m\u001b[0;34m\u001b[0m\u001b[0m\n\u001b[0m\u001b[1;32m     22\u001b[0m             \u001b[0moptimizer\u001b[0m\u001b[0;34m.\u001b[0m\u001b[0mstep\u001b[0m\u001b[0;34m(\u001b[0m\u001b[0;34m)\u001b[0m\u001b[0;34m\u001b[0m\u001b[0m\n\u001b[1;32m     23\u001b[0m \u001b[0;34m\u001b[0m\u001b[0m\n",
      "\u001b[0;32m~/.local/lib/python3.5/site-packages/torch/tensor.py\u001b[0m in \u001b[0;36mbackward\u001b[0;34m(self, gradient, retain_graph, create_graph)\u001b[0m\n\u001b[1;32m     91\u001b[0m                 \u001b[0mproducts\u001b[0m\u001b[0;34m.\u001b[0m \u001b[0mDefaults\u001b[0m \u001b[0mto\u001b[0m\u001b[0;31m \u001b[0m\u001b[0;31m`\u001b[0m\u001b[0;31m`\u001b[0m\u001b[0;32mFalse\u001b[0m\u001b[0;31m`\u001b[0m\u001b[0;31m`\u001b[0m\u001b[0;34m.\u001b[0m\u001b[0;34m\u001b[0m\u001b[0m\n\u001b[1;32m     92\u001b[0m         \"\"\"\n\u001b[0;32m---> 93\u001b[0;31m         \u001b[0mtorch\u001b[0m\u001b[0;34m.\u001b[0m\u001b[0mautograd\u001b[0m\u001b[0;34m.\u001b[0m\u001b[0mbackward\u001b[0m\u001b[0;34m(\u001b[0m\u001b[0mself\u001b[0m\u001b[0;34m,\u001b[0m \u001b[0mgradient\u001b[0m\u001b[0;34m,\u001b[0m \u001b[0mretain_graph\u001b[0m\u001b[0;34m,\u001b[0m \u001b[0mcreate_graph\u001b[0m\u001b[0;34m)\u001b[0m\u001b[0;34m\u001b[0m\u001b[0m\n\u001b[0m\u001b[1;32m     94\u001b[0m \u001b[0;34m\u001b[0m\u001b[0m\n\u001b[1;32m     95\u001b[0m     \u001b[0;32mdef\u001b[0m \u001b[0mregister_hook\u001b[0m\u001b[0;34m(\u001b[0m\u001b[0mself\u001b[0m\u001b[0;34m,\u001b[0m \u001b[0mhook\u001b[0m\u001b[0;34m)\u001b[0m\u001b[0;34m:\u001b[0m\u001b[0;34m\u001b[0m\u001b[0m\n",
      "\u001b[0;32m~/.local/lib/python3.5/site-packages/torch/autograd/__init__.py\u001b[0m in \u001b[0;36mbackward\u001b[0;34m(tensors, grad_tensors, retain_graph, create_graph, grad_variables)\u001b[0m\n\u001b[1;32m     87\u001b[0m     Variable._execution_engine.run_backward(\n\u001b[1;32m     88\u001b[0m         \u001b[0mtensors\u001b[0m\u001b[0;34m,\u001b[0m \u001b[0mgrad_tensors\u001b[0m\u001b[0;34m,\u001b[0m \u001b[0mretain_graph\u001b[0m\u001b[0;34m,\u001b[0m \u001b[0mcreate_graph\u001b[0m\u001b[0;34m,\u001b[0m\u001b[0;34m\u001b[0m\u001b[0m\n\u001b[0;32m---> 89\u001b[0;31m         allow_unreachable=True)  # allow_unreachable flag\n\u001b[0m\u001b[1;32m     90\u001b[0m \u001b[0;34m\u001b[0m\u001b[0m\n\u001b[1;32m     91\u001b[0m \u001b[0;34m\u001b[0m\u001b[0m\n",
      "\u001b[0;31mRuntimeError\u001b[0m: cuda runtime error (2) : out of memory at /pytorch/aten/src/THC/generic/THCStorage.cu:58"
     ]
    }
   ],
   "source": [
    "total = 0\n",
    "correct = 0\n",
    "for test_num in range(test_range):\n",
    "    \n",
    "    start_time = time.time()\n",
    "    print('# > [{}/{}] train start.'.format(test_num + 1, test_range))\n",
    "    model = run_train(test_num, TEST_TYPE)\n",
    "    print('# > [{}/{}] train end.'.format(test_num + 1, test_range))\n",
    "    \n",
    "    temp_total = 0\n",
    "    temp_correct = 0\n",
    "    for c in range(30):\n",
    "        sub_total, sub_correct = run_validation(model, test_num, TEST_TYPE)\n",
    "        temp_total += sub_total\n",
    "        temp_correct += sub_correct\n",
    "        \n",
    "    current_process_count = (test_num + 1) * epochs\n",
    "    end_time = time.time()\n",
    "    run_time = (end_time - start_time)\n",
    "    remain_process = test_range - 1 - test_num\n",
    "    remain_time = run_time * remain_process\n",
    "    \n",
    "    _min, _sec = get_min_sec(remain_time)\n",
    "    \n",
    "    print('# > [{}/{}] correct : {}% ({} / {}) -> {}%, remain time : {}mins {}secs'.format(test_num + 1, test_range, 100 * temp_correct / temp_total, temp_correct, temp_total, 100 * current_process_count / total_process_count, _min, _sec))\n",
    "    \n",
    "    total += temp_total\n",
    "    correct += temp_correct\n",
    "    print('# > total :  correct : {}% ({} / {})'.format(100 * correct / total, correct, total))"
   ]
  },
  {
   "cell_type": "code",
   "execution_count": null,
   "metadata": {},
   "outputs": [],
   "source": [
    "print('# > train and validation end')\n",
    "print('# > final report')\n",
    "print('type : {}, result : {}% ({} / {})'.format(_type, 100 * correct / total, correct, total))"
   ]
  },
  {
   "cell_type": "code",
   "execution_count": null,
   "metadata": {},
   "outputs": [],
   "source": [
    "\n",
    "TEST_TYPE = 1\n",
    "\n",
    "if TEST_TYPE == 0:\n",
    "    _type = 'Valence'\n",
    "elif TEST_TYPE == 1:\n",
    "    _type = 'Arousal'\n",
    "else:\n",
    "    raise ValueError('TEST_TYPE must be 1 or 2')"
   ]
  },
  {
   "cell_type": "code",
   "execution_count": null,
   "metadata": {},
   "outputs": [],
   "source": [
    "total = 0\n",
    "correct = 0\n",
    "for test_num in range(test_range):\n",
    "    \n",
    "    start_time = time.time()\n",
    "    print('# > [{}/{}] train start.'.format(test_num + 1, test_range))\n",
    "    model = run_train(test_num, TEST_TYPE)\n",
    "    print('# > [{}/{}] train end.'.format(test_num + 1, test_range))\n",
    "    \n",
    "    temp_total = 0\n",
    "    temp_correct = 0\n",
    "    for c in range(30):\n",
    "        sub_total, sub_correct = run_validation(model, test_num, TEST_TYPE)\n",
    "        temp_total += sub_total\n",
    "        temp_correct += sub_correct\n",
    "        \n",
    "    current_process_count = (test_num + 1) * epochs\n",
    "    end_time = time.time()\n",
    "    run_time = (end_time - start_time)\n",
    "    remain_process = test_range - 1 - test_num\n",
    "    remain_time = run_time * remain_process\n",
    "    \n",
    "    _min, _sec = get_min_sec(remain_time)\n",
    "    \n",
    "    print('# > [{}/{}] correct : {}% ({} / {}) -> {}%, remain time : {}mins {}secs'.format(test_num + 1, test_range, 100 * temp_correct / temp_total, temp_correct, temp_total, 100 * current_process_count / total_process_count, _min, _sec))\n",
    "    \n",
    "    total += temp_total\n",
    "    correct += temp_correct\n",
    "    print('# > total :  correct : {}% ({} / {})'.format(100 * correct / total, correct, total))"
   ]
  },
  {
   "cell_type": "code",
   "execution_count": null,
   "metadata": {},
   "outputs": [],
   "source": [
    "print('# > train and validation end')\n",
    "print('# > final report')\n",
    "print('type : {}, result : {}% ({} / {})'.format(_type, 100 * correct / total, correct, total))"
   ]
  },
  {
   "cell_type": "code",
   "execution_count": null,
   "metadata": {},
   "outputs": [],
   "source": []
  }
 ],
 "metadata": {
  "kernelspec": {
   "display_name": "Python 3",
   "language": "python",
   "name": "python3"
  },
  "language_info": {
   "codemirror_mode": {
    "name": "ipython",
    "version": 3
   },
   "file_extension": ".py",
   "mimetype": "text/x-python",
   "name": "python",
   "nbconvert_exporter": "python",
   "pygments_lexer": "ipython3",
   "version": "3.5.2"
  }
 },
 "nbformat": 4,
 "nbformat_minor": 2
}
