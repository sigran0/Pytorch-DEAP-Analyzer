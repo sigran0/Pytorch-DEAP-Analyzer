{
 "cells": [
  {
   "cell_type": "code",
   "execution_count": 1,
   "metadata": {},
   "outputs": [
    {
     "name": "stderr",
     "output_type": "stream",
     "text": [
      "/home/swjung/.local/lib/python3.5/site-packages/h5py/__init__.py:36: FutureWarning: Conversion of the second argument of issubdtype from `float` to `np.floating` is deprecated. In future, it will be treated as `np.float64 == np.dtype(float).type`.\n",
      "  from ._conv import register_converters as _register_converters\n"
     ]
    },
    {
     "name": "stdout",
     "output_type": "stream",
     "text": [
      "(32, 40, 7680, 40)\n",
      "(32, 40, 4)\n"
     ]
    }
   ],
   "source": [
    "import pickle\n",
    "\n",
    "import numpy as np\n",
    "import scipy.io as sio\n",
    "import h5py\n",
    "from scipy.io import loadmat\n",
    "numIns = 6\n",
    "\n",
    "chNum = 40\n",
    "\n",
    "dam = 128 * 60\n",
    "\n",
    "wholeData = np.zeros((32, 40, dam, chNum))\n",
    "y_train = np.zeros((32, 40, 4))\n",
    "numIns = 1\n",
    "for sub in range(32):\n",
    "    if sub < 9:\n",
    "        fName = 'data/DEAP/s0'+str(sub+1)+'.dat'\n",
    "    else:\n",
    "        fName = 'data/DEAP/s'+str(sub+1)+'.dat'\n",
    "    x = pickle.load(open(fName, 'rb'), encoding='latin1')\n",
    "    data = x['data']\n",
    "    labels_tmp = x['labels']\n",
    "    \n",
    "    labels = np.zeros((40,4))\n",
    "    mode = 0\n",
    "    if(mode ==0):\n",
    "        for i in range(40):\n",
    "            for j in range(4):\n",
    "                if(labels_tmp[i,j]<5):\n",
    "                    labels[i,j] = 0\n",
    "                else:\n",
    "                    labels[i,j] = 1\n",
    "    else:\n",
    "        for i in range(40):\n",
    "            for j in range(4):\n",
    "                if(labels_tmp[i,j]<3):\n",
    "                    labels[i,j] = 0\n",
    "                elif(labels_tmp[i,j] >=3 and labels_tmp[i,j]<6):\n",
    "                    labels[i,j] = 1\n",
    "                else:\n",
    "                    labels[i,j] = 2\n",
    "\n",
    "    labels_tmp = labels\n",
    "    labels = np.zeros((40,4))\n",
    "    for i in range(40):\n",
    "        labels[i, :] = labels_tmp[i,:]\n",
    "z\n",
    "    data_tmp = np.zeros((40, 40, dam))\n",
    "    for i in range(40):\n",
    "        data_tmp[i,:,:]= data[i,:,128:128+dam]\n",
    "\n",
    "    wholeData_sub = np.zeros((40, dam, chNum))\n",
    "    for i in range(40):\n",
    "        for j in range(chNum):\n",
    "            wholeData_sub[i, :, j] = data_tmp[i, j, :]\n",
    "            \n",
    "    #print wholeData_sub.shape\n",
    "    wholeData[sub, :,:,:] = wholeData_sub\n",
    "    y_train[sub, :, :] = labels\n",
    "    \n",
    "print(wholeData.shape)\n",
    "print(y_train.shape)"
   ]
  },
  {
   "cell_type": "code",
   "execution_count": 2,
   "metadata": {},
   "outputs": [
    {
     "data": {
      "text/plain": [
       "0.8962466865026775"
      ]
     },
     "execution_count": 2,
     "metadata": {},
     "output_type": "execute_result"
    }
   ],
   "source": [
    "test_1 = wholeData[0]\n",
    "test_1[0][0][0]"
   ]
  },
  {
   "cell_type": "code",
   "execution_count": null,
   "metadata": {},
   "outputs": [],
   "source": []
  }
 ],
 "metadata": {
  "kernelspec": {
   "display_name": "Python 3",
   "language": "python",
   "name": "python3"
  },
  "language_info": {
   "codemirror_mode": {
    "name": "ipython",
    "version": 3
   },
   "file_extension": ".py",
   "mimetype": "text/x-python",
   "name": "python",
   "nbconvert_exporter": "python",
   "pygments_lexer": "ipython3",
   "version": "3.5.2"
  }
 },
 "nbformat": 4,
 "nbformat_minor": 2
}
