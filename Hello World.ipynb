{
 "cells": [
  {
   "cell_type": "code",
   "execution_count": 2,
   "metadata": {},
   "outputs": [],
   "source": [
    "import numpy as np\n",
    "import pickle\n"
   ]
  },
  {
   "cell_type": "code",
   "execution_count": 3,
   "metadata": {},
   "outputs": [],
   "source": [
    "with open('data/processed_data.pkl', 'rb') as f:\n",
    "    datas = pickle.load(f, encoding='latin1')\n",
    "\n",
    "with open('data/y_train.pkl', 'rb') as f:\n",
    "    labels = pickle.load(f, encoding='latin1')"
   ]
  },
  {
   "cell_type": "code",
   "execution_count": 4,
   "metadata": {},
   "outputs": [
    {
     "name": "stdout",
     "output_type": "stream",
     "text": [
      "(32, 40, 40, 101)\n"
     ]
    }
   ],
   "source": [
    "print(datas.shape)"
   ]
  },
  {
   "cell_type": "code",
   "execution_count": 5,
   "metadata": {},
   "outputs": [
    {
     "name": "stdout",
     "output_type": "stream",
     "text": [
      "(40, 101)\n"
     ]
    }
   ],
   "source": [
    "print(datas[0][0].shape)"
   ]
  },
  {
   "cell_type": "code",
   "execution_count": 6,
   "metadata": {},
   "outputs": [],
   "source": [
    "counter = 0\n",
    "target_data = []\n",
    "test_type = 0\n",
    "test_target = 0\n",
    "for pp, pp_data in enumerate(datas):\n",
    "    if test_target is not pp:\n",
    "        for exp, data in enumerate(pp_data):\n",
    "            counter += 1\n",
    "            temp_label = labels[pp][exp][test_type]\n",
    "            temp_data = np.zeros((1, 40, 101))\n",
    "            temp_data[0, :, :] = 1\n",
    "\n",
    "            for ch in range(40):\n",
    "                for d in range(101):\n",
    "                    temp_data[0][ch][d] = data[ch][d]\n",
    "            target_data.append((temp_label, temp_data))"
   ]
  },
  {
   "cell_type": "code",
   "execution_count": 8,
   "metadata": {},
   "outputs": [
    {
     "name": "stdout",
     "output_type": "stream",
     "text": [
      "(1, 40, 101)\n"
     ]
    }
   ],
   "source": [
    "print(target_data[0][1].shape)"
   ]
  },
  {
   "cell_type": "code",
   "execution_count": null,
   "metadata": {},
   "outputs": [],
   "source": []
  }
 ],
 "metadata": {
  "kernelspec": {
   "display_name": "Python 3",
   "language": "python",
   "name": "python3"
  },
  "language_info": {
   "codemirror_mode": {
    "name": "ipython",
    "version": 3
   },
   "file_extension": ".py",
   "mimetype": "text/x-python",
   "name": "python",
   "nbconvert_exporter": "python",
   "pygments_lexer": "ipython3",
   "version": "3.5.2"
  }
 },
 "nbformat": 4,
 "nbformat_minor": 2
}
