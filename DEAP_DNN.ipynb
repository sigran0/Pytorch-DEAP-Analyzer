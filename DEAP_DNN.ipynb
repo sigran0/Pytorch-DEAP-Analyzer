{
 "cells": [
  {
   "cell_type": "code",
   "execution_count": 1,
   "metadata": {},
   "outputs": [
    {
     "name": "stderr",
     "output_type": "stream",
     "text": [
      "/home/swjung/.local/lib/python3.5/site-packages/h5py/__init__.py:36: FutureWarning: Conversion of the second argument of issubdtype from `float` to `np.floating` is deprecated. In future, it will be treated as `np.float64 == np.dtype(float).type`.\n",
      "  from ._conv import register_converters as _register_converters\n"
     ]
    }
   ],
   "source": [
    "import pickle\n",
    "import h5py\n",
    "import os\n",
    "import torch\n",
    "import random\n",
    "import torch.utils.data as data\n",
    "import torch.nn as nn\n",
    "from torch.autograd import Variable\n",
    "import numpy\n"
   ]
  },
  {
   "cell_type": "code",
   "execution_count": 2,
   "metadata": {},
   "outputs": [],
   "source": [
    "class DEAP_DataSet(data.Dataset):\n",
    "    \n",
    "    VALID_SPLIT = ('train', 'validation', 'test')\n",
    "    DATASET = 'data/'\n",
    "    TEST_TARGET = 1\n",
    "    TEST_DATA_TYPE = 0\n",
    "    \n",
    "    def __init__(self, test_target, test_type=0, split='train', data_dir='processed_data.pkl', label_dir='y_train.pkl'):\n",
    "        super(DEAP_DataSet, self).__init__()\n",
    "        \n",
    "        if split not in self.VALID_SPLIT:\n",
    "            raise ValueError('Unknown split {:s}'.format(split))\n",
    "        if not os.path.exists(self.DATASET + data_dir):\n",
    "            raise ValueError('{:s} does not exist'.format(data_dir))\n",
    "        if not os.path.exists(self.DATASET + label_dir):\n",
    "            raise ValueError('{:s} does not exist'.format(label_dir))\n",
    "            \n",
    "        data_path = '{}/{}'.format(self.DATASET, data_dir)\n",
    "        label_path = '{}/{}'.format(self.DATASET, label_dir)\n",
    "        \n",
    "        self.split = split\n",
    "        self.data = pickle.load(open(data_path, 'rb'))\n",
    "        self.labels = pickle.load(open(label_path, 'rb'))\n",
    "        \n",
    "        self.test_target = test_target\n",
    "        self.test_type = test_type\n",
    "        self.target_data = []\n",
    "        \n",
    "        # create train data set -> 31 * 40 * 32 = 39680\n",
    "        if self.split == self.VALID_SPLIT[0]:\n",
    "            counter = 0\n",
    "            for pp, pp_data in enumerate(self.data):\n",
    "                if self.test_target is not pp:\n",
    "                    for c, data in enumerate(pp_data):\n",
    "                        counter += 1\n",
    "                        temp_label = self.labels[pp][c][self.test_type]\n",
    "                        temp_data = data.flatten()\n",
    "                        self.target_data.append((temp_label, temp_data))\n",
    "            print(counter)    \n",
    "        # craete test data set -> 32 * 40 = 1280\n",
    "        if self.split == self.VALID_SPLIT[2]:\n",
    "            counter = 0\n",
    "            for pp, pp_data in enumerate(self.data):\n",
    "                if self.test_target == pp:\n",
    "                    for c, data in enumerate(pp_data):\n",
    "                        counter += 1\n",
    "                        temp_label = self.labels[pp][c][self.test_type]\n",
    "                        temp_data = data.flatten()\n",
    "                        self.target_data.append((temp_label, temp_data))\n",
    "            print(counter)\n",
    "                    \n",
    "    def __getitem__(self, index):\n",
    "        return self.target_data[index]\n",
    "    \n",
    "    def __len__(self):\n",
    "        return len(self.target_data)"
   ]
  },
  {
   "cell_type": "code",
   "execution_count": 3,
   "metadata": {},
   "outputs": [],
   "source": [
    "class DNN(nn.Module):\n",
    "    def __init__(self):\n",
    "        super(DNN, self).__init__()\n",
    "        self.layer = nn.Sequential(\n",
    "            nn.Linear(4040, 5000),\n",
    "            nn.ReLU(),\n",
    "            nn.Dropout(0.25),\n",
    "            nn.Linear(5000, 500),\n",
    "            nn.ReLU(),\n",
    "            nn.Dropout(0.50),\n",
    "            nn.Linear(500, 1000),\n",
    "            nn.ReLU(),\n",
    "            nn.Dropout(0.50),\n",
    "            nn.Linear(1000, 2),\n",
    "            nn.Dropout(0.50),\n",
    "            nn.Softmax(dim=1)\n",
    "        )\n",
    "    def forward(self, x):\n",
    "        out = self.layer(x)\n",
    "        return out\n",
    "    \n",
    "model = DNN().double().cuda()"
   ]
  },
  {
   "cell_type": "code",
   "execution_count": 4,
   "metadata": {},
   "outputs": [],
   "source": [
    "# Set HyperParameter\n",
    "learning_rate = 0.00001\n",
    "gradient_direction = 0.9\n",
    "batch_size = 310\n",
    "epochs = 250"
   ]
  },
  {
   "cell_type": "code",
   "execution_count": 5,
   "metadata": {},
   "outputs": [
    {
     "name": "stdout",
     "output_type": "stream",
     "text": [
      "1240\n",
      "1240\n"
     ]
    }
   ],
   "source": [
    "# Load DataSet\n",
    "DEAP_train = DEAP_DataSet(0, test_type=1)\n",
    "DEAP_test = DEAP_DataSet(0, test_type=1)"
   ]
  },
  {
   "cell_type": "code",
   "execution_count": 6,
   "metadata": {},
   "outputs": [],
   "source": [
    "train_loader = torch.utils.data.DataLoader(DEAP_train, batch_size=batch_size, shuffle=False, num_workers=2, drop_last=False)\n",
    "test_loader = torch.utils.data.DataLoader(DEAP_test, batch_size=batch_size, shuffle=False, num_workers=2, drop_last=False)"
   ]
  },
  {
   "cell_type": "code",
   "execution_count": 7,
   "metadata": {},
   "outputs": [],
   "source": [
    "optimizer = torch.optim.RMSprop(model.parameters(), lr=learning_rate, alpha=gradient_direction)\n",
    "loss_func = nn.CrossEntropyLoss().double()"
   ]
  },
  {
   "cell_type": "code",
   "execution_count": 8,
   "metadata": {},
   "outputs": [
    {
     "name": "stdout",
     "output_type": "stream",
     "text": [
      "[0:4] loss : 0.7837250491254548\n",
      "[10:4] loss : 0.7792783958447415\n",
      "[20:4] loss : 0.753230314933355\n",
      "[30:4] loss : 0.8002283087365547\n",
      "[40:4] loss : 0.7731019600586536\n",
      "[50:4] loss : 0.8026127510024357\n",
      "[60:4] loss : 0.7809359364971165\n",
      "[70:4] loss : 0.7695902947500723\n",
      "[80:4] loss : 0.7741501121344022\n",
      "[90:4] loss : 0.732852411965116\n",
      "[100:4] loss : 0.7553741887589764\n",
      "[110:4] loss : 0.7258830906167377\n",
      "[120:4] loss : 0.7504687884492035\n",
      "[130:4] loss : 0.7332483776575924\n",
      "[140:4] loss : 0.724848958766549\n",
      "[150:4] loss : 0.7371753745941979\n",
      "[160:4] loss : 0.7321998549854596\n",
      "[170:4] loss : 0.7067194668797019\n",
      "[180:4] loss : 0.727314168791463\n",
      "[190:4] loss : 0.7017450113330805\n",
      "[200:4] loss : 0.7194256900419297\n",
      "[210:4] loss : 0.7529285917550183\n",
      "[220:4] loss : 0.7197699507760458\n",
      "[230:4] loss : 0.7185231986706563\n",
      "[240:4] loss : 0.727098450841872\n"
     ]
    }
   ],
   "source": [
    "for epoch in range(epochs):\n",
    "    count = 0\n",
    "    for label, data in train_loader:\n",
    "        x = Variable(data).double().cuda()\n",
    "        y_ = Variable(label).type(torch.LongTensor).cuda()\n",
    "\n",
    "        optimizer.zero_grad()\n",
    "        output = model.forward(x)\n",
    "        loss = loss_func(output, y_).double()\n",
    "        loss.backward()\n",
    "        optimizer.step()\n",
    "\n",
    "        count += 1\n",
    "        \n",
    "        if count % 4 == 0 and epoch % 10 == 0:\n",
    "            print('[{}:{}] loss : {}'.format(epoch, count, loss))"
   ]
  },
  {
   "cell_type": "code",
   "execution_count": 9,
   "metadata": {},
   "outputs": [
    {
     "name": "stdout",
     "output_type": "stream",
     "text": [
      "Total : 1240, correct : 658.0\n",
      "Accuracy : 53.06451416015625\n"
     ]
    }
   ],
   "source": [
    "correct = 0\n",
    "total = 0\n",
    "\n",
    "for label, data in test_loader:\n",
    "    x = Variable(data, requires_grad=False).double().cuda()\n",
    "    y_ = Variable(label).type(torch.LongTensor).cuda()\n",
    "\n",
    "    with torch.no_grad():\n",
    "        output = model.forward(x)\n",
    "        _, output_index = torch.max(output, 1)\n",
    "\n",
    "        total += label.size(0)\n",
    "        correct += (output_index == y_).sum().float()\n",
    "\n",
    "print('Total : {}, correct : {}'.format(total, correct))\n",
    "print('Accuracy : {}'.format(100 * correct / total))"
   ]
  },
  {
   "cell_type": "code",
   "execution_count": null,
   "metadata": {},
   "outputs": [],
   "source": []
  }
 ],
 "metadata": {
  "kernelspec": {
   "display_name": "Python 3",
   "language": "python",
   "name": "python3"
  },
  "language_info": {
   "codemirror_mode": {
    "name": "ipython",
    "version": 3
   },
   "file_extension": ".py",
   "mimetype": "text/x-python",
   "name": "python",
   "nbconvert_exporter": "python",
   "pygments_lexer": "ipython3",
   "version": "3.5.2"
  }
 },
 "nbformat": 4,
 "nbformat_minor": 2
}
