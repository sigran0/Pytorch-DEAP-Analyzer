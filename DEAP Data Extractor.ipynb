{
 "cells": [
  {
   "cell_type": "code",
   "execution_count": 1,
   "metadata": {},
   "outputs": [],
   "source": [
    "import pickle\n",
    "import numpy as np\n",
    "import scipy.stats as stats"
   ]
  },
  {
   "cell_type": "code",
   "execution_count": 2,
   "metadata": {},
   "outputs": [],
   "source": [
    "# 우선 데이터를 가져오는 부분부터 설정\n",
    "numlns = 6\n",
    "chNum = 40\n",
    "dam = 128 * 63"
   ]
  },
  {
   "cell_type": "code",
   "execution_count": 3,
   "metadata": {},
   "outputs": [],
   "source": [
    "\n",
    "wholeData = np.zeros((32, 40, dam, chNum))\n",
    "y_train = np.zeros((32, 40, 4))\n",
    "numIns = 1\n",
    "for sub in range(32):\n",
    "    if sub < 9:\n",
    "        fName = 'data/DEAP/s0'+str(sub+1)+'.dat'\n",
    "    else:\n",
    "        fName = 'data/DEAP/s'+str(sub+1)+'.dat'\n",
    "    x = pickle.load(open(fName, 'rb'), encoding='latin1')\n",
    "    data = x['data']\n",
    "    labels_tmp = x['labels']\n",
    "    \n",
    "    labels = np.zeros((40,4))\n",
    "    mode = 0\n",
    "    if(mode ==0):\n",
    "        for i in range(40):\n",
    "            for j in range(4):\n",
    "                if(labels_tmp[i,j] < 5):\n",
    "                    labels[i,j] = 0\n",
    "                else:\n",
    "                    labels[i,j] = 1\n",
    "    else:\n",
    "        for i in range(40):\n",
    "            for j in range(4):\n",
    "                if(labels_tmp[i,j] < 3):\n",
    "                    labels[i,j] = 0\n",
    "                elif(labels_tmp[i,j] >= 3 and labels_tmp[i,j] < 6):\n",
    "                    labels[i,j] = 1\n",
    "                else:\n",
    "                    labels[i,j] = 2\n",
    "\n",
    "    labels_tmp = labels\n",
    "    labels = np.zeros((40,4))\n",
    "    for i in range(40):\n",
    "        labels[i, :] = labels_tmp[i,:]\n",
    "\n",
    "    data_tmp = np.zeros((40, 40, dam))\n",
    "    for i in range(40):\n",
    "        data_tmp[i,:,:]= data[i,:,0:0+dam]\n",
    "\n",
    "    wholeData_sub = np.zeros((40, dam, chNum))\n",
    "    for i in range(40):\n",
    "        for j in range(chNum):\n",
    "            wholeData_sub[i, :, j] = data_tmp[i, j, :]\n",
    "            \n",
    "    #print wholeData_sub.shape\n",
    "    wholeData[sub, :,:,:] = wholeData_sub\n",
    "    y_train[sub, :, :] = labels\n",
    "    "
   ]
  },
  {
   "cell_type": "code",
   "execution_count": 4,
   "metadata": {},
   "outputs": [],
   "source": [
    "def extract_data(target_data):\n",
    "    target_res = []\n",
    "\n",
    "    target_mean = target_data.mean(axis=2)\n",
    "    target_median = np.median(target_data, axis=2)\n",
    "    target_maximum = np.max(target_data, axis=2)\n",
    "    target_minimum = np.min(target_data, axis=2)\n",
    "    target_std = np.std(target_data, axis=2)\n",
    "    target_var = np.var(target_data, axis=2)\n",
    "    target_range = np.ptp(target_data, axis=2)\n",
    "    target_skew = stats.skew(target_data, axis=2)\n",
    "    target_kurtosis = stats.kurtosis(target_data, axis=2)\n",
    "    \n",
    "    return [target_mean, target_median, target_maximum, target_minimum, target_std, target_var, target_range, target_skew, target_kurtosis]"
   ]
  },
  {
   "cell_type": "code",
   "execution_count": 5,
   "metadata": {},
   "outputs": [],
   "source": [
    "whole_extract_data = extract_data(wholeData)"
   ]
  },
  {
   "cell_type": "code",
   "execution_count": 6,
   "metadata": {},
   "outputs": [
    {
     "name": "stdout",
     "output_type": "stream",
     "text": [
      "(32, 40, 40)\n"
     ]
    }
   ],
   "source": [
    "print(whole_extract_data[0].shape)"
   ]
  },
  {
   "cell_type": "code",
   "execution_count": 7,
   "metadata": {},
   "outputs": [
    {
     "name": "stdout",
     "output_type": "stream",
     "text": [
      "(32, 40, 8064, 40)\n"
     ]
    }
   ],
   "source": [
    "print(wholeData.shape)"
   ]
  },
  {
   "cell_type": "code",
   "execution_count": 8,
   "metadata": {},
   "outputs": [],
   "source": [
    "slide_extract_data = []\n",
    "\n",
    "for c in range(0, 8064, 807):\n",
    "    slide_extract_data.append(extract_data(wholeData[:, :, c: 807 + c, :]))"
   ]
  },
  {
   "cell_type": "code",
   "execution_count": 9,
   "metadata": {},
   "outputs": [],
   "source": [
    "#이제 추출된 데이터를 내가 원하는 형식으로 만들어보자\n",
    "processed_data = np.zeros((32, 40, 40, 101))\n",
    "processed_data2 = np.zeros((32, 40, 4040))\n",
    "\n",
    "for ps_num in range(32):\n",
    "    for exp_num in range(40):\n",
    "        #print('ps_num : {}, exp_num : {}'.format(ps_num, exp_num))\n",
    "        processed_data[ps_num, exp_num, :, 0] = ps_num\n",
    "        processed_data[ps_num, exp_num, :, 1] = exp_num\n",
    "        \n",
    "        for ch_num in range(40):\n",
    "\n",
    "            for c, data in enumerate(whole_extract_data):\n",
    "                processed_data[ps_num, exp_num, ch_num, 2 + c] = data[ps_num, exp_num, ch_num]\n",
    "                \n",
    "            for c, datas in enumerate(slide_extract_data):\n",
    "                \n",
    "                for d, data in enumerate(datas):\n",
    "                    processed_data[ps_num, exp_num, ch_num, 11 + c * 9 + d] = data[ps_num, exp_num, ch_num]"
   ]
  },
  {
   "cell_type": "code",
   "execution_count": 10,
   "metadata": {},
   "outputs": [
    {
     "name": "stdout",
     "output_type": "stream",
     "text": [
      "(32, 40, 40, 101)\n",
      "(32, 40, 40)\n",
      "-0.028258582130643254\n",
      "(32, 40, 4)\n"
     ]
    }
   ],
   "source": [
    "print(processed_data.shape)\n",
    "print(whole_extract_data[0].shape)\n",
    "print(whole_extract_data[0][0][0][0])\n",
    "print(y_train.shape)"
   ]
  },
  {
   "cell_type": "code",
   "execution_count": 11,
   "metadata": {},
   "outputs": [
    {
     "data": {
      "text/plain": [
       "25.0"
      ]
     },
     "execution_count": 11,
     "metadata": {},
     "output_type": "execute_result"
    }
   ],
   "source": [
    "processed_data[30][25][39][1]"
   ]
  },
  {
   "cell_type": "code",
   "execution_count": 12,
   "metadata": {},
   "outputs": [],
   "source": [
    "with open('y_train.pkl', 'wb') as f:\n",
    "    pickle.dump(y_train, f)\n",
    "with open('processed_data.pkl', 'wb') as f:\n",
    "    pickle.dump(processed_data, f)"
   ]
  },
  {
   "cell_type": "code",
   "execution_count": 13,
   "metadata": {},
   "outputs": [
    {
     "name": "stdout",
     "output_type": "stream",
     "text": [
      "data (32, 40, 40, 101)\n",
      "y_train (32, 40, 4)\n"
     ]
    }
   ],
   "source": [
    "print('data', processed_data.shape)\n",
    "print('y_train', y_train.shape)"
   ]
  },
  {
   "cell_type": "code",
   "execution_count": 14,
   "metadata": {},
   "outputs": [],
   "source": [
    "zz = processed_data.shape"
   ]
  },
  {
   "cell_type": "code",
   "execution_count": 15,
   "metadata": {},
   "outputs": [
    {
     "name": "stdout",
     "output_type": "stream",
     "text": [
      "(4040,)\n",
      "(4040,)\n",
      "(4040,)\n",
      "(4040,)\n",
      "(4040,)\n",
      "(4040,)\n",
      "(4040,)\n",
      "(4040,)\n",
      "(4040,)\n",
      "(4040,)\n",
      "(4040,)\n",
      "(4040,)\n",
      "(4040,)\n",
      "(4040,)\n",
      "(4040,)\n",
      "(4040,)\n",
      "(4040,)\n",
      "(4040,)\n",
      "(4040,)\n",
      "(4040,)\n",
      "(4040,)\n",
      "(4040,)\n",
      "(4040,)\n",
      "(4040,)\n",
      "(4040,)\n",
      "(4040,)\n",
      "(4040,)\n",
      "(4040,)\n",
      "(4040,)\n",
      "(4040,)\n",
      "(4040,)\n",
      "(4040,)\n",
      "(4040,)\n",
      "(4040,)\n",
      "(4040,)\n",
      "(4040,)\n",
      "(4040,)\n",
      "(4040,)\n",
      "(4040,)\n",
      "(4040,)\n"
     ]
    }
   ],
   "source": [
    "for c, data in enumerate(processed_data[0]):\n",
    "    print(data.flatten().shape)"
   ]
  },
  {
   "cell_type": "code",
   "execution_count": 16,
   "metadata": {},
   "outputs": [
    {
     "name": "stdout",
     "output_type": "stream",
     "text": [
      "[[1. 0. 1. 0.]\n",
      " [0. 0. 1. 0.]\n",
      " [1. 1. 1. 1.]\n",
      " [1. 1. 1. 1.]\n",
      " [1. 1. 1. 0.]\n",
      " [1. 0. 1. 0.]\n",
      " [0. 0. 1. 0.]\n",
      " [1. 1. 1. 1.]\n",
      " [1. 0. 1. 1.]\n",
      " [0. 1. 1. 0.]\n",
      " [1. 1. 1. 1.]\n",
      " [1. 0. 1. 1.]\n",
      " [1. 0. 1. 1.]\n",
      " [1. 1. 1. 1.]\n",
      " [1. 0. 1. 0.]\n",
      " [0. 1. 1. 1.]\n",
      " [1. 1. 1. 0.]\n",
      " [1. 1. 1. 1.]\n",
      " [1. 1. 1. 1.]\n",
      " [1. 0. 1. 1.]\n",
      " [0. 1. 1. 0.]\n",
      " [0. 1. 1. 1.]\n",
      " [0. 1. 1. 1.]\n",
      " [0. 1. 0. 1.]\n",
      " [0. 1. 1. 1.]\n",
      " [1. 0. 1. 0.]\n",
      " [1. 1. 1. 1.]\n",
      " [1. 1. 1. 1.]\n",
      " [0. 1. 1. 0.]\n",
      " [0. 1. 0. 1.]\n",
      " [0. 1. 1. 0.]\n",
      " [0. 1. 1. 1.]\n",
      " [0. 0. 1. 0.]\n",
      " [0. 1. 1. 0.]\n",
      " [0. 1. 1. 0.]\n",
      " [0. 1. 1. 0.]\n",
      " [0. 1. 1. 0.]\n",
      " [0. 1. 1. 0.]\n",
      " [0. 1. 0. 0.]\n",
      " [1. 0. 1. 0.]]\n",
      "(40, 4)\n"
     ]
    }
   ],
   "source": [
    "print(labels[:, :])\n",
    "print(labels.shape)"
   ]
  },
  {
   "cell_type": "code",
   "execution_count": null,
   "metadata": {},
   "outputs": [],
   "source": []
  }
 ],
 "metadata": {
  "kernelspec": {
   "display_name": "Python 3",
   "language": "python",
   "name": "python3"
  },
  "language_info": {
   "codemirror_mode": {
    "name": "ipython",
    "version": 3
   },
   "file_extension": ".py",
   "mimetype": "text/x-python",
   "name": "python",
   "nbconvert_exporter": "python",
   "pygments_lexer": "ipython3",
   "version": "3.5.2"
  }
 },
 "nbformat": 4,
 "nbformat_minor": 2
}
